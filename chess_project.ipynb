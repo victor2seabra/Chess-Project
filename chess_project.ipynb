{
 "cells": [
  {
   "cell_type": "markdown",
   "metadata": {},
   "source": [
    "# Xadrez: uma análise sobre a arte milenar das 64 casas"
   ]
  },
  {
   "cell_type": "markdown",
   "metadata": {},
   "source": [
    "## **Objetivos**"
   ]
  },
  {
   "cell_type": "markdown",
   "metadata": {},
   "source": [
    "Fazendo uso de pyspark dataframes e SQL responder as seguintes propostas:\n",
    "\n",
    "*   Determinar a abertura mais usada; \n",
    "\n",
    "*   Qual abertura leva a maior taxa empates ou vitórias, tanto para brancas quanto para pretas; \n",
    "\n",
    "*   Brancas tem vantagem sobre as pretas em todas as modalidades/eventos?;\n",
    "\n",
    "*   Qual o jogador com maior taxa de vitórias e qual jogador com maior taxa de derrotas."
   ]
  },
  {
   "cell_type": "markdown",
   "metadata": {},
   "source": [
    "## **Análise e tratamento de dados**"
   ]
  },
  {
   "cell_type": "markdown",
   "metadata": {},
   "source": [
    "### Importando os dados"
   ]
  },
  {
   "cell_type": "markdown",
   "metadata": {},
   "source": [
    "Fazendo o import do pypark e criando uma SparkSession para que haja comunicação entre a aplicação e os workers"
   ]
  },
  {
   "cell_type": "code",
   "execution_count": 86,
   "metadata": {},
   "outputs": [
    {
     "data": {
      "text/html": [
       "\n",
       "            <div>\n",
       "                <p><b>SparkSession - in-memory</b></p>\n",
       "                \n",
       "        <div>\n",
       "            <p><b>SparkContext</b></p>\n",
       "\n",
       "            <p><a href=\"http://COM-VICTORSEABRA:4040\">Spark UI</a></p>\n",
       "\n",
       "            <dl>\n",
       "              <dt>Version</dt>\n",
       "                <dd><code>v3.5.3</code></dd>\n",
       "              <dt>Master</dt>\n",
       "                <dd><code>local</code></dd>\n",
       "              <dt>AppName</dt>\n",
       "                <dd><code>chess</code></dd>\n",
       "            </dl>\n",
       "        </div>\n",
       "        \n",
       "            </div>\n",
       "        "
      ],
      "text/plain": [
       "<pyspark.sql.session.SparkSession at 0x2b5648f92b0>"
      ]
     },
     "execution_count": 86,
     "metadata": {},
     "output_type": "execute_result"
    }
   ],
   "source": [
    "from pyspark.sql import SparkSession\n",
    "import pyspark.sql.functions as F\n",
    "import os\n",
    "\n",
    "spark = SparkSession.builder.master('local').appName('chess').getOrCreate()\n",
    "spark"
   ]
  },
  {
   "cell_type": "markdown",
   "metadata": {},
   "source": [
    "Abrindo a base de dados csv adquirida via Kaggle"
   ]
  },
  {
   "cell_type": "code",
   "execution_count": 87,
   "metadata": {},
   "outputs": [],
   "source": [
    "path = os.path.abspath('chess_games.csv')"
   ]
  },
  {
   "cell_type": "code",
   "execution_count": 88,
   "metadata": {},
   "outputs": [],
   "source": [
    "chess = spark.read.csv(path, header=True, inferSchema=True, sep=',')"
   ]
  },
  {
   "cell_type": "code",
   "execution_count": 89,
   "metadata": {},
   "outputs": [
    {
     "name": "stdout",
     "output_type": "stream",
     "text": [
      "+------------------+---------------+----------+------+----------+-------------------+--------+--------+---------------+---------------+---+--------------------+-----------+------------+--------------------+\n",
      "|             Event|          White|     Black|Result|   UTCDate|            UTCTime|WhiteElo|BlackElo|WhiteRatingDiff|BlackRatingDiff|ECO|             Opening|TimeControl| Termination|                  AN|\n",
      "+------------------+---------------+----------+------+----------+-------------------+--------+--------+---------------+---------------+---+--------------------+-----------+------------+--------------------+\n",
      "|        Classical |        eisaaaa|  HAMID449|   1-0|2016.06.30|2024-10-28 22:00:01|    1901|    1896|           11.0|          -11.0|D10|        Slav Defense|      300+5|Time forfeit|1. d4 d5 2. c4 c6...|\n",
      "|            Blitz |         go4jas|Sergei1973|   0-1|2016.06.30|2024-10-28 22:00:01|    1641|    1627|          -11.0|           12.0|C20|King's Pawn Openi...|      300+0|      Normal|1. e4 e5 2. b3 Nf...|\n",
      "| Blitz tournament |Evangelistaizac|    kafune|   1-0|2016.06.30|2024-10-28 22:00:02|    1647|    1688|           13.0|          -13.0|B01|Scandinavian Defe...|      180+0|Time forfeit|1. e4 d5 2. exd5 ...|\n",
      "|   Correspondence |         Jvayne|  Wsjvayne|   1-0|2016.06.30|2024-10-28 22:00:02|    1706|    1317|           27.0|          -25.0|A00|Van't Kruijs Opening|          -|      Normal|1. e3 Nf6 2. Bc4 ...|\n",
      "| Blitz tournament |         kyoday| BrettDale|   0-1|2016.06.30|2024-10-28 22:00:02|    1945|    1900|          -14.0|           13.0|B90|Sicilian Defense:...|      180+0|Time forfeit|1. e4 c5 2. Nf3 d...|\n",
      "+------------------+---------------+----------+------+----------+-------------------+--------+--------+---------------+---------------+---+--------------------+-----------+------------+--------------------+\n",
      "only showing top 5 rows\n",
      "\n"
     ]
    }
   ],
   "source": [
    "chess.show(5)"
   ]
  },
  {
   "cell_type": "markdown",
   "metadata": {},
   "source": [
    "### Fazendo o tratamento e validação dos dados"
   ]
  },
  {
   "cell_type": "markdown",
   "metadata": {},
   "source": [
    "Analisando o tipo de dado de cada coluna e seus respectivos valores únicos"
   ]
  },
  {
   "cell_type": "code",
   "execution_count": 90,
   "metadata": {},
   "outputs": [
    {
     "name": "stdout",
     "output_type": "stream",
     "text": [
      "root\n",
      " |-- Event: string (nullable = true)\n",
      " |-- White: string (nullable = true)\n",
      " |-- Black: string (nullable = true)\n",
      " |-- Result: string (nullable = true)\n",
      " |-- UTCDate: string (nullable = true)\n",
      " |-- UTCTime: timestamp (nullable = true)\n",
      " |-- WhiteElo: integer (nullable = true)\n",
      " |-- BlackElo: integer (nullable = true)\n",
      " |-- WhiteRatingDiff: double (nullable = true)\n",
      " |-- BlackRatingDiff: double (nullable = true)\n",
      " |-- ECO: string (nullable = true)\n",
      " |-- Opening: string (nullable = true)\n",
      " |-- TimeControl: string (nullable = true)\n",
      " |-- Termination: string (nullable = true)\n",
      " |-- AN: string (nullable = true)\n",
      "\n"
     ]
    }
   ],
   "source": [
    "chess.printSchema()"
   ]
  },
  {
   "cell_type": "code",
   "execution_count": null,
   "metadata": {},
   "outputs": [],
   "source": [
    "for c in chess.columns:\n",
    "   chess.createOrReplaceTempView('chess')\n",
    "   query = f'SELECT DISTINCT {c} FROM chess'\n",
    "   spark.sql(query).show()"
   ]
  },
  {
   "cell_type": "markdown",
   "metadata": {},
   "source": [
    "Com isso podemos observar que há inconsistências quanto ao nome de aberturas, tipos de eventos e quanto ao tipo de resultados, dado que \"*\" não é um resultado válido e este não fora descrito do que se trata pela fonte de dados.\n",
    "\n",
    "Desse modo essas trativas devem ser realizadas"
   ]
  },
  {
   "cell_type": "code",
   "execution_count": 92,
   "metadata": {},
   "outputs": [
    {
     "name": "stdout",
     "output_type": "stream",
     "text": [
      "+------------------+---------------+---------------+------+----------+-------------------+--------+--------+---------------+---------------+---+--------------------+-----------+------------+--------------------+\n",
      "|             Event|          White|          Black|Result|   UTCDate|            UTCTime|WhiteElo|BlackElo|WhiteRatingDiff|BlackRatingDiff|ECO|             Opening|TimeControl| Termination|                  AN|\n",
      "+------------------+---------------+---------------+------+----------+-------------------+--------+--------+---------------+---------------+---+--------------------+-----------+------------+--------------------+\n",
      "|        Classical |        eisaaaa|       HAMID449|   1-0|2016.06.30|2024-10-28 22:00:01|    1901|    1896|           11.0|          -11.0|D10|        Slav Defense|      300+5|Time forfeit|1. d4 d5 2. c4 c6...|\n",
      "|            Blitz |         go4jas|     Sergei1973|   0-1|2016.06.30|2024-10-28 22:00:01|    1641|    1627|          -11.0|           12.0|C20|King's Pawn Openi...|      300+0|      Normal|1. e4 e5 2. b3 Nf...|\n",
      "| Blitz tournament |Evangelistaizac|         kafune|   1-0|2016.06.30|2024-10-28 22:00:02|    1647|    1688|           13.0|          -13.0|B01|Scandinavian Defe...|      180+0|Time forfeit|1. e4 d5 2. exd5 ...|\n",
      "|   Correspondence |         Jvayne|       Wsjvayne|   1-0|2016.06.30|2024-10-28 22:00:02|    1706|    1317|           27.0|          -25.0|A00|Van't Kruijs Opening|          -|      Normal|1. e3 Nf6 2. Bc4 ...|\n",
      "| Blitz tournament |         kyoday|      BrettDale|   0-1|2016.06.30|2024-10-28 22:00:02|    1945|    1900|          -14.0|           13.0|B90|Sicilian Defense:...|      180+0|Time forfeit|1. e4 c5 2. Nf3 d...|\n",
      "| Blitz tournament | lucaseixasouza|         diguim|   0-1|2016.06.30|2024-10-28 22:00:02|    1773|    1809|          -10.0|           10.0|C27|         Vienna Game|      180+0|      Normal|1. e4 e5 2. Nc3 d...|\n",
      "| Blitz tournament |       RENZZO77|HeadlessChicken|   0-1|2016.06.30|2024-10-28 22:00:02|    1895|    1886|          -12.0|           12.0|B10|Caro-Kann Defense...|      180+0|Time forfeit|1. e4 c6 2. Nf3 d...|\n",
      "| Blitz tournament |          ipero|      Bayern123|   1-0|2016.06.30|2024-10-28 22:00:02|    2155|    2356|           20.0|          -20.0|D02|Queen's Pawn Game...|      180+0|      Normal|1. d4 d5 2. Nf3 N...|\n",
      "| Blitz tournament |Loginov19510410|        Kereshu|   0-1|2016.06.30|2024-10-28 22:00:02|    2010|    2111|           -9.0|            9.0|A45|         Indian Game|      300+0|      Normal|1. d4 Nf6 2. Bf4 ...|\n",
      "| Blitz tournament |     Shambobala|     cernunnoss|   1-0|2016.06.30|2024-10-28 22:00:02|    1764|    1773|           12.0|          -12.0|B01|Scandinavian Defe...|      180+0|Time forfeit|1. e4 d5 2. exd5 ...|\n",
      "|        Classical |        DARDELU|   chess4life54|   0-1|2016.06.30|2024-10-28 22:00:01|    1649|    1638|          -13.0|           11.0|C57|Italian Game: Two...|      900+3|      Normal|1. e4 e5 2. Nf3 N...|\n",
      "|        Classical |        fabikim|         sereno|   1-0|2016.06.30|2024-10-28 22:00:02|    1630|    1500|            7.0|           -7.0|C41| Philidor Defense #3|      420+5|      Normal|1. e4 e5 2. Nf3 d...|\n",
      "| Blitz tournament |      IZDenisZI|         BoBo93|   1-0|2016.06.30|2024-10-28 22:00:02|    1833|    1837|           11.0|          -12.0|C36|King's Gambit Acc...|      300+0|      Normal|1. e4 e5 2. f4 ex...|\n",
      "| Blitz tournament |     lasha-fero| ildivinojohnny|   1-0|2016.06.30|2024-10-28 22:00:02|    2020|    1979|           10.0|          -11.0|A00|      Polish Opening|      180+0|Time forfeit|1. b4 e6 2. Bb2 d...|\n",
      "| Blitz tournament |       arkadyNa|     sofianet06|   0-1|2016.06.30|2024-10-28 22:00:02|    1581|    1616|          -12.0|           11.0|B01|Scandinavian Defe...|      180+0|Time forfeit|1. e4 d5 2. exd5 ...|\n",
      "| Blitz tournament |    mayconchess|        trend19|   0-1|2016.06.30|2024-10-28 22:00:02|    1879|    1868|          -13.0|           12.0|B01|Scandinavian Defe...|      180+0|      Normal|1. e4 d5 2. exd5 ...|\n",
      "| Blitz tournament |         lj1983|        plmnnnn|   1-0|2016.06.30|2024-10-28 22:00:02|    1963|    1979|           12.0|          -13.0|B10|Caro-Kann Defense...|      180+0|      Normal|1. e4 c6 2. Nf3 d...|\n",
      "| Blitz tournament |         Inorem|       leymoral|   1-0|2016.06.30|2024-10-28 22:00:02|    1751|    1712|           10.0|          -10.0|C62|Ruy Lopez: Steini...|      180+0|      Normal|1. e4 e5 2. Nf3 N...|\n",
      "| Blitz tournament |     Torres2300| Trabelsi-Wajdi|   0-1|2016.06.30|2024-10-28 22:00:02|    1795|    1800|          -14.0|           11.0|B32|Sicilian Defense:...|      300+0|      Normal|1. e4 c5 2. Nf3 e...|\n",
      "| Blitz tournament |         Igor76|          dancg|   1-0|2016.06.30|2024-10-28 22:00:02|    1913|    1925|           11.0|          -13.0|B12|Caro-Kann Defense...|      300+0|      Normal|1. e4 c6 2. d4 d5...|\n",
      "+------------------+---------------+---------------+------+----------+-------------------+--------+--------+---------------+---------------+---+--------------------+-----------+------------+--------------------+\n",
      "only showing top 20 rows\n",
      "\n"
     ]
    }
   ],
   "source": [
    "chess = chess.withColumn('Opening', F.trim(F.col('Opening')))\n",
    "\n",
    "chess.show()"
   ]
  },
  {
   "cell_type": "markdown",
   "metadata": {},
   "source": [
    "Checando se foi feito com sucesso"
   ]
  },
  {
   "cell_type": "code",
   "execution_count": 93,
   "metadata": {},
   "outputs": [
    {
     "name": "stdout",
     "output_type": "stream",
     "text": [
      "+--------------------+\n",
      "|             Opening|\n",
      "+--------------------+\n",
      "|Caro-Kann Defense...|\n",
      "|Alekhine Defense:...|\n",
      "|King's Gambit, Fa...|\n",
      "|King's Indian Att...|\n",
      "|Queen's Gambit Ac...|\n",
      "|Tarrasch Defense:...|\n",
      "|Four Knights Game...|\n",
      "|Ruy Lopez: Berlin...|\n",
      "|Blackmar-Diemer G...|\n",
      "|Owen Defense: Mat...|\n",
      "|Caro-Kann Defense...|\n",
      "|Slav Defense: Cze...|\n",
      "|Queen's Gambit De...|\n",
      "|Ruy Lopez: Classi...|\n",
      "|French Defense: C...|\n",
      "|French Defense: S...|\n",
      "|Italian Game: Two...|\n",
      "|Owen Defense: Smi...|\n",
      "|Sicilian Defense:...|\n",
      "|English Opening: ...|\n",
      "+--------------------+\n",
      "only showing top 20 rows\n",
      "\n"
     ]
    }
   ],
   "source": [
    "query = '''\n",
    "    SELECT DISTINCT Opening\n",
    "    FROM chess\n",
    "'''\n",
    "spark.sql(query).show()"
   ]
  },
  {
   "cell_type": "markdown",
   "metadata": {},
   "source": [
    "Tratando dos tipos de eventos"
   ]
  },
  {
   "cell_type": "code",
   "execution_count": 94,
   "metadata": {},
   "outputs": [
    {
     "name": "stdout",
     "output_type": "stream",
     "text": [
      "+----------------+---------------+---------------+------+----------+-------------------+--------+--------+---------------+---------------+---+--------------------+-----------+------------+--------------------+\n",
      "|           Event|          White|          Black|Result|   UTCDate|            UTCTime|WhiteElo|BlackElo|WhiteRatingDiff|BlackRatingDiff|ECO|             Opening|TimeControl| Termination|                  AN|\n",
      "+----------------+---------------+---------------+------+----------+-------------------+--------+--------+---------------+---------------+---+--------------------+-----------+------------+--------------------+\n",
      "|       Classical|        eisaaaa|       HAMID449|   1-0|2016.06.30|2024-10-28 22:00:01|    1901|    1896|           11.0|          -11.0|D10|        Slav Defense|      300+5|Time forfeit|1. d4 d5 2. c4 c6...|\n",
      "|           Blitz|         go4jas|     Sergei1973|   0-1|2016.06.30|2024-10-28 22:00:01|    1641|    1627|          -11.0|           12.0|C20|King's Pawn Openi...|      300+0|      Normal|1. e4 e5 2. b3 Nf...|\n",
      "|Blitz tournament|Evangelistaizac|         kafune|   1-0|2016.06.30|2024-10-28 22:00:02|    1647|    1688|           13.0|          -13.0|B01|Scandinavian Defe...|      180+0|Time forfeit|1. e4 d5 2. exd5 ...|\n",
      "|  Correspondence|         Jvayne|       Wsjvayne|   1-0|2016.06.30|2024-10-28 22:00:02|    1706|    1317|           27.0|          -25.0|A00|Van't Kruijs Opening|          -|      Normal|1. e3 Nf6 2. Bc4 ...|\n",
      "|Blitz tournament|         kyoday|      BrettDale|   0-1|2016.06.30|2024-10-28 22:00:02|    1945|    1900|          -14.0|           13.0|B90|Sicilian Defense:...|      180+0|Time forfeit|1. e4 c5 2. Nf3 d...|\n",
      "|Blitz tournament| lucaseixasouza|         diguim|   0-1|2016.06.30|2024-10-28 22:00:02|    1773|    1809|          -10.0|           10.0|C27|         Vienna Game|      180+0|      Normal|1. e4 e5 2. Nc3 d...|\n",
      "|Blitz tournament|       RENZZO77|HeadlessChicken|   0-1|2016.06.30|2024-10-28 22:00:02|    1895|    1886|          -12.0|           12.0|B10|Caro-Kann Defense...|      180+0|Time forfeit|1. e4 c6 2. Nf3 d...|\n",
      "|Blitz tournament|          ipero|      Bayern123|   1-0|2016.06.30|2024-10-28 22:00:02|    2155|    2356|           20.0|          -20.0|D02|Queen's Pawn Game...|      180+0|      Normal|1. d4 d5 2. Nf3 N...|\n",
      "|Blitz tournament|Loginov19510410|        Kereshu|   0-1|2016.06.30|2024-10-28 22:00:02|    2010|    2111|           -9.0|            9.0|A45|         Indian Game|      300+0|      Normal|1. d4 Nf6 2. Bf4 ...|\n",
      "|Blitz tournament|     Shambobala|     cernunnoss|   1-0|2016.06.30|2024-10-28 22:00:02|    1764|    1773|           12.0|          -12.0|B01|Scandinavian Defe...|      180+0|Time forfeit|1. e4 d5 2. exd5 ...|\n",
      "|       Classical|        DARDELU|   chess4life54|   0-1|2016.06.30|2024-10-28 22:00:01|    1649|    1638|          -13.0|           11.0|C57|Italian Game: Two...|      900+3|      Normal|1. e4 e5 2. Nf3 N...|\n",
      "|       Classical|        fabikim|         sereno|   1-0|2016.06.30|2024-10-28 22:00:02|    1630|    1500|            7.0|           -7.0|C41| Philidor Defense #3|      420+5|      Normal|1. e4 e5 2. Nf3 d...|\n",
      "|Blitz tournament|      IZDenisZI|         BoBo93|   1-0|2016.06.30|2024-10-28 22:00:02|    1833|    1837|           11.0|          -12.0|C36|King's Gambit Acc...|      300+0|      Normal|1. e4 e5 2. f4 ex...|\n",
      "|Blitz tournament|     lasha-fero| ildivinojohnny|   1-0|2016.06.30|2024-10-28 22:00:02|    2020|    1979|           10.0|          -11.0|A00|      Polish Opening|      180+0|Time forfeit|1. b4 e6 2. Bb2 d...|\n",
      "|Blitz tournament|       arkadyNa|     sofianet06|   0-1|2016.06.30|2024-10-28 22:00:02|    1581|    1616|          -12.0|           11.0|B01|Scandinavian Defe...|      180+0|Time forfeit|1. e4 d5 2. exd5 ...|\n",
      "|Blitz tournament|    mayconchess|        trend19|   0-1|2016.06.30|2024-10-28 22:00:02|    1879|    1868|          -13.0|           12.0|B01|Scandinavian Defe...|      180+0|      Normal|1. e4 d5 2. exd5 ...|\n",
      "|Blitz tournament|         lj1983|        plmnnnn|   1-0|2016.06.30|2024-10-28 22:00:02|    1963|    1979|           12.0|          -13.0|B10|Caro-Kann Defense...|      180+0|      Normal|1. e4 c6 2. Nf3 d...|\n",
      "|Blitz tournament|         Inorem|       leymoral|   1-0|2016.06.30|2024-10-28 22:00:02|    1751|    1712|           10.0|          -10.0|C62|Ruy Lopez: Steini...|      180+0|      Normal|1. e4 e5 2. Nf3 N...|\n",
      "|Blitz tournament|     Torres2300| Trabelsi-Wajdi|   0-1|2016.06.30|2024-10-28 22:00:02|    1795|    1800|          -14.0|           11.0|B32|Sicilian Defense:...|      300+0|      Normal|1. e4 c5 2. Nf3 e...|\n",
      "|Blitz tournament|         Igor76|          dancg|   1-0|2016.06.30|2024-10-28 22:00:02|    1913|    1925|           11.0|          -13.0|B12|Caro-Kann Defense...|      300+0|      Normal|1. e4 c6 2. d4 d5...|\n",
      "+----------------+---------------+---------------+------+----------+-------------------+--------+--------+---------------+---------------+---+--------------------+-----------+------------+--------------------+\n",
      "only showing top 20 rows\n",
      "\n"
     ]
    }
   ],
   "source": [
    "chess = chess.withColumn('Event', F.trim(F.col('Event')))\n",
    "\n",
    "chess.show()"
   ]
  },
  {
   "cell_type": "markdown",
   "metadata": {},
   "source": [
    "Checando se a alteração foi feita com sucesso"
   ]
  },
  {
   "cell_type": "code",
   "execution_count": 95,
   "metadata": {},
   "outputs": [
    {
     "name": "stdout",
     "output_type": "stream",
     "text": [
      "+--------------------+\n",
      "|               Event|\n",
      "+--------------------+\n",
      "|              Bullet|\n",
      "|Classical tournament|\n",
      "|   Bullet tournament|\n",
      "|               Blitz|\n",
      "|           Classical|\n",
      "|    Blitz tournament|\n",
      "|      Correspondence|\n",
      "+--------------------+\n",
      "\n"
     ]
    }
   ],
   "source": [
    "chess.createOrReplaceTempView('chess')\n",
    "query = '''\n",
    "    SELECT DISTINCT Event\n",
    "    FROM chess\n",
    "'''\n",
    "spark.sql(query).show()"
   ]
  },
  {
   "cell_type": "markdown",
   "metadata": {},
   "source": [
    "Tratando dos resultados"
   ]
  },
  {
   "cell_type": "code",
   "execution_count": 96,
   "metadata": {},
   "outputs": [
    {
     "name": "stdout",
     "output_type": "stream",
     "text": [
      "+----------------+---------------+---------------+------+----------+-------------------+--------+--------+---------------+---------------+---+--------------------+-----------+------------+--------------------+\n",
      "|           Event|          White|          Black|Result|   UTCDate|            UTCTime|WhiteElo|BlackElo|WhiteRatingDiff|BlackRatingDiff|ECO|             Opening|TimeControl| Termination|                  AN|\n",
      "+----------------+---------------+---------------+------+----------+-------------------+--------+--------+---------------+---------------+---+--------------------+-----------+------------+--------------------+\n",
      "|       Classical|        eisaaaa|       HAMID449|   1-0|2016.06.30|2024-10-28 22:00:01|    1901|    1896|           11.0|          -11.0|D10|        Slav Defense|      300+5|Time forfeit|1. d4 d5 2. c4 c6...|\n",
      "|           Blitz|         go4jas|     Sergei1973|   0-1|2016.06.30|2024-10-28 22:00:01|    1641|    1627|          -11.0|           12.0|C20|King's Pawn Openi...|      300+0|      Normal|1. e4 e5 2. b3 Nf...|\n",
      "|Blitz tournament|Evangelistaizac|         kafune|   1-0|2016.06.30|2024-10-28 22:00:02|    1647|    1688|           13.0|          -13.0|B01|Scandinavian Defe...|      180+0|Time forfeit|1. e4 d5 2. exd5 ...|\n",
      "|  Correspondence|         Jvayne|       Wsjvayne|   1-0|2016.06.30|2024-10-28 22:00:02|    1706|    1317|           27.0|          -25.0|A00|Van't Kruijs Opening|          -|      Normal|1. e3 Nf6 2. Bc4 ...|\n",
      "|Blitz tournament|         kyoday|      BrettDale|   0-1|2016.06.30|2024-10-28 22:00:02|    1945|    1900|          -14.0|           13.0|B90|Sicilian Defense:...|      180+0|Time forfeit|1. e4 c5 2. Nf3 d...|\n",
      "|Blitz tournament| lucaseixasouza|         diguim|   0-1|2016.06.30|2024-10-28 22:00:02|    1773|    1809|          -10.0|           10.0|C27|         Vienna Game|      180+0|      Normal|1. e4 e5 2. Nc3 d...|\n",
      "|Blitz tournament|       RENZZO77|HeadlessChicken|   0-1|2016.06.30|2024-10-28 22:00:02|    1895|    1886|          -12.0|           12.0|B10|Caro-Kann Defense...|      180+0|Time forfeit|1. e4 c6 2. Nf3 d...|\n",
      "|Blitz tournament|          ipero|      Bayern123|   1-0|2016.06.30|2024-10-28 22:00:02|    2155|    2356|           20.0|          -20.0|D02|Queen's Pawn Game...|      180+0|      Normal|1. d4 d5 2. Nf3 N...|\n",
      "|Blitz tournament|Loginov19510410|        Kereshu|   0-1|2016.06.30|2024-10-28 22:00:02|    2010|    2111|           -9.0|            9.0|A45|         Indian Game|      300+0|      Normal|1. d4 Nf6 2. Bf4 ...|\n",
      "|Blitz tournament|     Shambobala|     cernunnoss|   1-0|2016.06.30|2024-10-28 22:00:02|    1764|    1773|           12.0|          -12.0|B01|Scandinavian Defe...|      180+0|Time forfeit|1. e4 d5 2. exd5 ...|\n",
      "|       Classical|        DARDELU|   chess4life54|   0-1|2016.06.30|2024-10-28 22:00:01|    1649|    1638|          -13.0|           11.0|C57|Italian Game: Two...|      900+3|      Normal|1. e4 e5 2. Nf3 N...|\n",
      "|       Classical|        fabikim|         sereno|   1-0|2016.06.30|2024-10-28 22:00:02|    1630|    1500|            7.0|           -7.0|C41| Philidor Defense #3|      420+5|      Normal|1. e4 e5 2. Nf3 d...|\n",
      "|Blitz tournament|      IZDenisZI|         BoBo93|   1-0|2016.06.30|2024-10-28 22:00:02|    1833|    1837|           11.0|          -12.0|C36|King's Gambit Acc...|      300+0|      Normal|1. e4 e5 2. f4 ex...|\n",
      "|Blitz tournament|     lasha-fero| ildivinojohnny|   1-0|2016.06.30|2024-10-28 22:00:02|    2020|    1979|           10.0|          -11.0|A00|      Polish Opening|      180+0|Time forfeit|1. b4 e6 2. Bb2 d...|\n",
      "|Blitz tournament|       arkadyNa|     sofianet06|   0-1|2016.06.30|2024-10-28 22:00:02|    1581|    1616|          -12.0|           11.0|B01|Scandinavian Defe...|      180+0|Time forfeit|1. e4 d5 2. exd5 ...|\n",
      "|Blitz tournament|    mayconchess|        trend19|   0-1|2016.06.30|2024-10-28 22:00:02|    1879|    1868|          -13.0|           12.0|B01|Scandinavian Defe...|      180+0|      Normal|1. e4 d5 2. exd5 ...|\n",
      "|Blitz tournament|         lj1983|        plmnnnn|   1-0|2016.06.30|2024-10-28 22:00:02|    1963|    1979|           12.0|          -13.0|B10|Caro-Kann Defense...|      180+0|      Normal|1. e4 c6 2. Nf3 d...|\n",
      "|Blitz tournament|         Inorem|       leymoral|   1-0|2016.06.30|2024-10-28 22:00:02|    1751|    1712|           10.0|          -10.0|C62|Ruy Lopez: Steini...|      180+0|      Normal|1. e4 e5 2. Nf3 N...|\n",
      "|Blitz tournament|     Torres2300| Trabelsi-Wajdi|   0-1|2016.06.30|2024-10-28 22:00:02|    1795|    1800|          -14.0|           11.0|B32|Sicilian Defense:...|      300+0|      Normal|1. e4 c5 2. Nf3 e...|\n",
      "|Blitz tournament|         Igor76|          dancg|   1-0|2016.06.30|2024-10-28 22:00:02|    1913|    1925|           11.0|          -13.0|B12|Caro-Kann Defense...|      300+0|      Normal|1. e4 c6 2. d4 d5...|\n",
      "+----------------+---------------+---------------+------+----------+-------------------+--------+--------+---------------+---------------+---+--------------------+-----------+------------+--------------------+\n",
      "only showing top 20 rows\n",
      "\n"
     ]
    }
   ],
   "source": [
    "chess = chess.filter(F.col('Result') != '*')\n",
    "chess.show()"
   ]
  },
  {
   "cell_type": "markdown",
   "metadata": {},
   "source": [
    "Checando se foi feito com sucesso a filtração"
   ]
  },
  {
   "cell_type": "code",
   "execution_count": 97,
   "metadata": {},
   "outputs": [
    {
     "name": "stdout",
     "output_type": "stream",
     "text": [
      "+-------+\n",
      "| Result|\n",
      "+-------+\n",
      "|1/2-1/2|\n",
      "|    1-0|\n",
      "|    0-1|\n",
      "+-------+\n",
      "\n"
     ]
    }
   ],
   "source": [
    "chess.createOrReplaceTempView('chess')\n",
    "query = '''\n",
    "    SELECT DISTINCT Result\n",
    "    FROM chess\n",
    "'''\n",
    "spark.sql(query).show()"
   ]
  },
  {
   "cell_type": "markdown",
   "metadata": {},
   "source": [
    "Como foi possível observar usando o método `.printSchema()`, pode haver a presença de valores nulos em todas as colunas, para tanto, será determinado o número de valores faltantes para todas elas\n",
    "\n",
    "Outras observações que podem ser tiradas quanto ao dataframe é o formato incorreto da coluna UTCDate\n",
    "\n",
    "Iniciando pelos possíveis valores faltantes temos as seguintes duas formas de calculo:"
   ]
  },
  {
   "cell_type": "code",
   "execution_count": 98,
   "metadata": {},
   "outputs": [
    {
     "name": "stdout",
     "output_type": "stream",
     "text": [
      "+-------------+-------------+-------------+--------------+---------------+---------------+----------------+----------------+-----------------------+-----------------------+-----------+---------------+-------------------+-------------------+----------+\n",
      "|Event_n_nulls|White_n_nulls|Black_n_nulls|Result_n_nulls|UTCDate_n_nulls|UTCTime_n_nulls|WhiteElo_n_nulls|BlackElo_n_nulls|WhiteRatingDiff_n_nulls|BlackRatingDiff_n_nulls|ECO_n_nulls|Opening_n_nulls|TimeControl_n_nulls|Termination_n_nulls|AN_n_nulls|\n",
      "+-------------+-------------+-------------+--------------+---------------+---------------+----------------+----------------+-----------------------+-----------------------+-----------+---------------+-------------------+-------------------+----------+\n",
      "|            0|            0|            0|             0|              0|              0|               0|               0|                   3328|                   3328|          0|              0|                  0|                  0|         0|\n",
      "+-------------+-------------+-------------+--------------+---------------+---------------+----------------+----------------+-----------------------+-----------------------+-----------+---------------+-------------------+-------------------+----------+\n",
      "\n"
     ]
    }
   ],
   "source": [
    "nulls = (chess\n",
    "         .select(\n",
    "             [F.sum(F.when(F.col(c).isNull(), 1).otherwise(0)).alias(f'{c}_n_nulls') \n",
    "              for c in chess.columns]\n",
    "         )\n",
    "         )\n",
    "\n",
    "nulls.show()"
   ]
  },
  {
   "cell_type": "markdown",
   "metadata": {},
   "source": [
    "averiguando o quão relevante são a presença desses valores nulos:"
   ]
  },
  {
   "cell_type": "code",
   "execution_count": 99,
   "metadata": {},
   "outputs": [
    {
     "data": {
      "text/plain": [
       "'Numero total de partidas: 6,254,841 partidas'"
      ]
     },
     "metadata": {},
     "output_type": "display_data"
    }
   ],
   "source": [
    "entries = chess.count()\n",
    "display(f'Numero total de partidas: {entries:,} partidas')"
   ]
  },
  {
   "cell_type": "code",
   "execution_count": 100,
   "metadata": {},
   "outputs": [
    {
     "name": "stdout",
     "output_type": "stream",
     "text": [
      "+-----------------------+-----------------------+-----------------------+------------------------+-------------------------+-------------------------+--------------------------+--------------------------+---------------------------------+---------------------------------+---------------------+-------------------------+-----------------------------+-----------------------------+--------------------+\n",
      "|Event_n_nulls_pct_nulls|White_n_nulls_pct_nulls|Black_n_nulls_pct_nulls|Result_n_nulls_pct_nulls|UTCDate_n_nulls_pct_nulls|UTCTime_n_nulls_pct_nulls|WhiteElo_n_nulls_pct_nulls|BlackElo_n_nulls_pct_nulls|WhiteRatingDiff_n_nulls_pct_nulls|BlackRatingDiff_n_nulls_pct_nulls|ECO_n_nulls_pct_nulls|Opening_n_nulls_pct_nulls|TimeControl_n_nulls_pct_nulls|Termination_n_nulls_pct_nulls|AN_n_nulls_pct_nulls|\n",
      "+-----------------------+-----------------------+-----------------------+------------------------+-------------------------+-------------------------+--------------------------+--------------------------+---------------------------------+---------------------------------+---------------------+-------------------------+-----------------------------+-----------------------------+--------------------+\n",
      "|                    0.0|                    0.0|                    0.0|                     0.0|                      0.0|                      0.0|                       0.0|                       0.0|                              0.0|                              0.0|                  0.0|                      0.0|                          0.0|                          0.0|                 0.0|\n",
      "+-----------------------+-----------------------+-----------------------+------------------------+-------------------------+-------------------------+--------------------------+--------------------------+---------------------------------+---------------------------------+---------------------+-------------------------+-----------------------------+-----------------------------+--------------------+\n",
      "\n"
     ]
    }
   ],
   "source": [
    "(nulls\n",
    " .select(\n",
    "     [F.round(F.col(c) / entries).alias(f'{c}_pct_nulls') \n",
    "      for c in nulls.columns]\n",
    " )\n",
    " .show()\n",
    " )"
   ]
  },
  {
   "cell_type": "markdown",
   "metadata": {},
   "source": [
    "Como, frente ao grande numero de entradas, os valores nulos em quantidade são insignificantes podemos descartá-los sem perda de informação significante"
   ]
  },
  {
   "cell_type": "code",
   "execution_count": 101,
   "metadata": {},
   "outputs": [
    {
     "name": "stdout",
     "output_type": "stream",
     "text": [
      "+----------------+---------------+---------------+------+----------+-------------------+--------+--------+---------------+---------------+---+--------------------+-----------+------------+--------------------+\n",
      "|           Event|          White|          Black|Result|   UTCDate|            UTCTime|WhiteElo|BlackElo|WhiteRatingDiff|BlackRatingDiff|ECO|             Opening|TimeControl| Termination|                  AN|\n",
      "+----------------+---------------+---------------+------+----------+-------------------+--------+--------+---------------+---------------+---+--------------------+-----------+------------+--------------------+\n",
      "|       Classical|        eisaaaa|       HAMID449|   1-0|2016.06.30|2024-10-28 22:00:01|    1901|    1896|           11.0|          -11.0|D10|        Slav Defense|      300+5|Time forfeit|1. d4 d5 2. c4 c6...|\n",
      "|           Blitz|         go4jas|     Sergei1973|   0-1|2016.06.30|2024-10-28 22:00:01|    1641|    1627|          -11.0|           12.0|C20|King's Pawn Openi...|      300+0|      Normal|1. e4 e5 2. b3 Nf...|\n",
      "|Blitz tournament|Evangelistaizac|         kafune|   1-0|2016.06.30|2024-10-28 22:00:02|    1647|    1688|           13.0|          -13.0|B01|Scandinavian Defe...|      180+0|Time forfeit|1. e4 d5 2. exd5 ...|\n",
      "|  Correspondence|         Jvayne|       Wsjvayne|   1-0|2016.06.30|2024-10-28 22:00:02|    1706|    1317|           27.0|          -25.0|A00|Van't Kruijs Opening|          -|      Normal|1. e3 Nf6 2. Bc4 ...|\n",
      "|Blitz tournament|         kyoday|      BrettDale|   0-1|2016.06.30|2024-10-28 22:00:02|    1945|    1900|          -14.0|           13.0|B90|Sicilian Defense:...|      180+0|Time forfeit|1. e4 c5 2. Nf3 d...|\n",
      "|Blitz tournament| lucaseixasouza|         diguim|   0-1|2016.06.30|2024-10-28 22:00:02|    1773|    1809|          -10.0|           10.0|C27|         Vienna Game|      180+0|      Normal|1. e4 e5 2. Nc3 d...|\n",
      "|Blitz tournament|       RENZZO77|HeadlessChicken|   0-1|2016.06.30|2024-10-28 22:00:02|    1895|    1886|          -12.0|           12.0|B10|Caro-Kann Defense...|      180+0|Time forfeit|1. e4 c6 2. Nf3 d...|\n",
      "|Blitz tournament|          ipero|      Bayern123|   1-0|2016.06.30|2024-10-28 22:00:02|    2155|    2356|           20.0|          -20.0|D02|Queen's Pawn Game...|      180+0|      Normal|1. d4 d5 2. Nf3 N...|\n",
      "|Blitz tournament|Loginov19510410|        Kereshu|   0-1|2016.06.30|2024-10-28 22:00:02|    2010|    2111|           -9.0|            9.0|A45|         Indian Game|      300+0|      Normal|1. d4 Nf6 2. Bf4 ...|\n",
      "|Blitz tournament|     Shambobala|     cernunnoss|   1-0|2016.06.30|2024-10-28 22:00:02|    1764|    1773|           12.0|          -12.0|B01|Scandinavian Defe...|      180+0|Time forfeit|1. e4 d5 2. exd5 ...|\n",
      "|       Classical|        DARDELU|   chess4life54|   0-1|2016.06.30|2024-10-28 22:00:01|    1649|    1638|          -13.0|           11.0|C57|Italian Game: Two...|      900+3|      Normal|1. e4 e5 2. Nf3 N...|\n",
      "|       Classical|        fabikim|         sereno|   1-0|2016.06.30|2024-10-28 22:00:02|    1630|    1500|            7.0|           -7.0|C41| Philidor Defense #3|      420+5|      Normal|1. e4 e5 2. Nf3 d...|\n",
      "|Blitz tournament|      IZDenisZI|         BoBo93|   1-0|2016.06.30|2024-10-28 22:00:02|    1833|    1837|           11.0|          -12.0|C36|King's Gambit Acc...|      300+0|      Normal|1. e4 e5 2. f4 ex...|\n",
      "|Blitz tournament|     lasha-fero| ildivinojohnny|   1-0|2016.06.30|2024-10-28 22:00:02|    2020|    1979|           10.0|          -11.0|A00|      Polish Opening|      180+0|Time forfeit|1. b4 e6 2. Bb2 d...|\n",
      "|Blitz tournament|       arkadyNa|     sofianet06|   0-1|2016.06.30|2024-10-28 22:00:02|    1581|    1616|          -12.0|           11.0|B01|Scandinavian Defe...|      180+0|Time forfeit|1. e4 d5 2. exd5 ...|\n",
      "|Blitz tournament|    mayconchess|        trend19|   0-1|2016.06.30|2024-10-28 22:00:02|    1879|    1868|          -13.0|           12.0|B01|Scandinavian Defe...|      180+0|      Normal|1. e4 d5 2. exd5 ...|\n",
      "|Blitz tournament|         lj1983|        plmnnnn|   1-0|2016.06.30|2024-10-28 22:00:02|    1963|    1979|           12.0|          -13.0|B10|Caro-Kann Defense...|      180+0|      Normal|1. e4 c6 2. Nf3 d...|\n",
      "|Blitz tournament|         Inorem|       leymoral|   1-0|2016.06.30|2024-10-28 22:00:02|    1751|    1712|           10.0|          -10.0|C62|Ruy Lopez: Steini...|      180+0|      Normal|1. e4 e5 2. Nf3 N...|\n",
      "|Blitz tournament|     Torres2300| Trabelsi-Wajdi|   0-1|2016.06.30|2024-10-28 22:00:02|    1795|    1800|          -14.0|           11.0|B32|Sicilian Defense:...|      300+0|      Normal|1. e4 c5 2. Nf3 e...|\n",
      "|Blitz tournament|         Igor76|          dancg|   1-0|2016.06.30|2024-10-28 22:00:02|    1913|    1925|           11.0|          -13.0|B12|Caro-Kann Defense...|      300+0|      Normal|1. e4 c6 2. d4 d5...|\n",
      "+----------------+---------------+---------------+------+----------+-------------------+--------+--------+---------------+---------------+---+--------------------+-----------+------------+--------------------+\n",
      "only showing top 20 rows\n",
      "\n"
     ]
    }
   ],
   "source": [
    "chess = chess.dropna()\n",
    "\n",
    "chess.show()"
   ]
  },
  {
   "cell_type": "markdown",
   "metadata": {},
   "source": [
    "Revisando se há presença de valores nulos ainda"
   ]
  },
  {
   "cell_type": "code",
   "execution_count": 102,
   "metadata": {},
   "outputs": [
    {
     "name": "stdout",
     "output_type": "stream",
     "text": [
      "+-------------+-------------+-------------+--------------+---------------+---------------+----------------+----------------+-----------------------+-----------------------+-----------+---------------+-------------------+-------------------+----------+\n",
      "|Event_is_null|White_is_null|Black_is_null|Result_is_null|UTCDate_is_null|UTCTime_is_null|WhiteElo_is_null|BlackElo_is_null|WhiteRatingDiff_is_null|BlackRatingDiff_is_null|ECO_is_null|Opening_is_null|TimeControl_is_null|Termination_is_null|AN_is_null|\n",
      "+-------------+-------------+-------------+--------------+---------------+---------------+----------------+----------------+-----------------------+-----------------------+-----------+---------------+-------------------+-------------------+----------+\n",
      "|            0|            0|            0|             0|              0|              0|               0|               0|                      0|                      0|          0|              0|                  0|                  0|         0|\n",
      "+-------------+-------------+-------------+--------------+---------------+---------------+----------------+----------------+-----------------------+-----------------------+-----------+---------------+-------------------+-------------------+----------+\n",
      "\n"
     ]
    }
   ],
   "source": [
    "(chess\n",
    " .select(\n",
    "     [F.sum(F.when(F.col(c).isNull(), 1).otherwise(0)).alias(f'{c}_is_null')\n",
    "      for c in chess.columns]\n",
    " )\n",
    " .show()\n",
    " )"
   ]
  },
  {
   "cell_type": "markdown",
   "metadata": {},
   "source": [
    "Fazendo o casting corretamente para `UTCDate`"
   ]
  },
  {
   "cell_type": "code",
   "execution_count": 103,
   "metadata": {},
   "outputs": [
    {
     "name": "stdout",
     "output_type": "stream",
     "text": [
      "+---------+-------+----------+------+----------+-------------------+--------+--------+---------------+---------------+---+--------------------+-----------+------------+--------------------+\n",
      "|    Event|  White|     Black|Result|   UTCDate|            UTCTime|WhiteElo|BlackElo|WhiteRatingDiff|BlackRatingDiff|ECO|             Opening|TimeControl| Termination|                  AN|\n",
      "+---------+-------+----------+------+----------+-------------------+--------+--------+---------------+---------------+---+--------------------+-----------+------------+--------------------+\n",
      "|Classical|eisaaaa|  HAMID449|   1-0|2016-06-30|2024-10-28 22:00:01|    1901|    1896|           11.0|          -11.0|D10|        Slav Defense|      300+5|Time forfeit|1. d4 d5 2. c4 c6...|\n",
      "|    Blitz| go4jas|Sergei1973|   0-1|2016-06-30|2024-10-28 22:00:01|    1641|    1627|          -11.0|           12.0|C20|King's Pawn Openi...|      300+0|      Normal|1. e4 e5 2. b3 Nf...|\n",
      "+---------+-------+----------+------+----------+-------------------+--------+--------+---------------+---------------+---+--------------------+-----------+------------+--------------------+\n",
      "only showing top 2 rows\n",
      "\n"
     ]
    }
   ],
   "source": [
    "from pyspark.sql.types import DateType\n",
    "chess = (chess\n",
    "         .withColumn(\n",
    "             'UTCDate', \n",
    "             F.regexp_replace(string=F.col('UTCDate'), pattern=r'\\.', replacement='-').cast(DateType())\n",
    "         )\n",
    "         )\n",
    "\n",
    "chess.show(2)"
   ]
  },
  {
   "cell_type": "markdown",
   "metadata": {},
   "source": [
    "### Verificando o tipo de abertura mais utilizado"
   ]
  },
  {
   "cell_type": "code",
   "execution_count": 104,
   "metadata": {},
   "outputs": [
    {
     "name": "stdout",
     "output_type": "stream",
     "text": [
      "+--------------------+\n",
      "|             Opening|\n",
      "+--------------------+\n",
      "|Van't Kruijs Opening|\n",
      "+--------------------+\n",
      "\n"
     ]
    }
   ],
   "source": [
    "count_open = chess.groupBy('Opening').count()\n",
    "max_played = count_open.select(F.max(count_open['count'])).collect()[0][0]\n",
    "count_open.filter(F.col('count') == max_played).select('Opening').show()"
   ]
  },
  {
   "cell_type": "markdown",
   "metadata": {},
   "source": [
    "### Determinando a abertura mais vitoriosas para brancas, pretas ou que levaram a empates"
   ]
  },
  {
   "cell_type": "code",
   "execution_count": 105,
   "metadata": {},
   "outputs": [
    {
     "name": "stdout",
     "output_type": "stream",
     "text": [
      "+-------+--------------------+\n",
      "| Result|             Opening|\n",
      "+-------+--------------------+\n",
      "|    0-1|Van't Kruijs Opening|\n",
      "|    1-0|Scandinavian Defe...|\n",
      "|1/2-1/2|Scandinavian Defe...|\n",
      "+-------+--------------------+\n",
      "\n"
     ]
    }
   ],
   "source": [
    "chess.createOrReplaceTempView('chess')\n",
    "query = ''' \n",
    "    WITH result_opening AS (\n",
    "        SELECT \n",
    "            Result,\n",
    "            Opening,\n",
    "            COUNT(*) AS times_used\n",
    "        FROM chess \n",
    "        GROUP BY 1, 2\n",
    "),\n",
    "    most_used AS (\n",
    "        SELECT \n",
    "            Result,\n",
    "            Opening,\n",
    "            MAX(times_used) OVER(PARTITION BY Result) AS most_used_opening\n",
    "        FROM result_opening\n",
    ")\n",
    "\n",
    "    SELECT DISTINCT\n",
    "        ro.Result,\n",
    "        ro.Opening\n",
    "    FROM result_opening AS ro\n",
    "    JOIN most_used AS mu \n",
    "        ON ro.Result = mu.Result AND \n",
    "        ro.Opening = mu.Opening\n",
    "    WHERE ro.times_used = mu.most_used_opening\n",
    "'''\n",
    "\n",
    "spark.sql(query).show()"
   ]
  },
  {
   "cell_type": "markdown",
   "metadata": {},
   "source": [
    "### Verificando para cada tipo de evento se brancas tem vantagem sobre as pretas"
   ]
  },
  {
   "cell_type": "code",
   "execution_count": 107,
   "metadata": {},
   "outputs": [
    {
     "name": "stdout",
     "output_type": "stream",
     "text": [
      "+--------------------+------+------------------+\n",
      "|               Event|Result|Most Common Result|\n",
      "+--------------------+------+------------------+\n",
      "|               Blitz|   1-0|           1159509|\n",
      "|    Blitz tournament|   1-0|            236374|\n",
      "|              Bullet|   1-0|            596187|\n",
      "|   Bullet tournament|   1-0|            272638|\n",
      "|           Classical|   1-0|            752651|\n",
      "|Classical tournament|   1-0|             83703|\n",
      "|      Correspondence|   1-0|             10653|\n",
      "+--------------------+------+------------------+\n",
      "\n"
     ]
    }
   ],
   "source": [
    "from pyspark.sql.window import Window\n",
    "event_result = chess.groupBy('Event', 'Result').count()\n",
    "window = Window.partitionBy('Event')\n",
    "max_result = (event_result\n",
    "              .withColumn(\n",
    "                  'Most Common Result', F.max(event_result['count']).over(window)\n",
    "              )\n",
    "              .filter(\n",
    "                  F.col('Most Common Result') == F.col('count')\n",
    "              )\n",
    "              .select('Event', 'Result', 'Most Common Result'))\n",
    "max_result.show()"
   ]
  },
  {
   "cell_type": "markdown",
   "metadata": {},
   "source": [
    "Dessa forma constata-se que de fato há superioridade em se iniciar uma partida de xadrez"
   ]
  },
  {
   "cell_type": "markdown",
   "metadata": {},
   "source": [
    "### Quais os jogadores com mais vitórias e quais os jogadores com mais derrotas?"
   ]
  },
  {
   "cell_type": "markdown",
   "metadata": {},
   "source": [
    "Determinando o jogador com mais vitórias"
   ]
  },
  {
   "cell_type": "code",
   "execution_count": 127,
   "metadata": {},
   "outputs": [
    {
     "name": "stdout",
     "output_type": "stream",
     "text": [
      "+------------+----------+\n",
      "|      Player|Total Wins|\n",
      "+------------+----------+\n",
      "|  Serg_tourn|      3432|\n",
      "|  universe64|      3027|\n",
      "|Beserking101|      2792|\n",
      "+------------+----------+\n",
      "only showing top 3 rows\n",
      "\n"
     ]
    }
   ],
   "source": [
    "white_wins = chess.filter(F.col('Result') == '1-0').groupBy('White').count()\n",
    "black_wins = chess.filter(F.col('Result') == '0-1').groupBy('Black').count()\n",
    "\n",
    "white_wins = white_wins.withColumnRenamed('count', 'white_wins')\n",
    "black_wins = black_wins.withColumnRenamed('count', 'black_wins')\n",
    "\n",
    "total_wins = white_wins.join(black_wins, white_wins['White'] == black_wins['Black'])\n",
    "total_wins = total_wins.withColumn('Total Wins', F.col('white_wins') + F.col('black_wins'))\n",
    "total_wins.orderBy(F.desc('Total Wins')).withColumnRenamed('white', 'Player').select('Player', 'Total Wins').show(3)"
   ]
  },
  {
   "cell_type": "markdown",
   "metadata": {},
   "source": [
    "Determinando o jogador com mais derrotas"
   ]
  },
  {
   "cell_type": "code",
   "execution_count": 132,
   "metadata": {},
   "outputs": [
    {
     "name": "stdout",
     "output_type": "stream",
     "text": [
      "+------------+-----------+\n",
      "|      Player|Total Loses|\n",
      "+------------+-----------+\n",
      "|    german11|       2862|\n",
      "|Beserking101|       2723|\n",
      "|      korsox|       2713|\n",
      "+------------+-----------+\n",
      "only showing top 3 rows\n",
      "\n"
     ]
    }
   ],
   "source": [
    "black_loses = chess.filter(F.col('Result') == '1-0').groupBy('Black').count()\n",
    "white_loses = chess.filter(F.col('Result') == '0-1').groupBy('White').count()\n",
    "\n",
    "black_loses = black_loses.withColumnRenamed('count', 'black_loses')\n",
    "white_loses = white_loses.withColumnRenamed('count', 'white_loses')\n",
    "\n",
    "total_wins = black_loses.join(white_loses, black_loses['Black'] == white_loses['White'])\n",
    "total_wins = total_wins.withColumn('Total Loses', F.col('black_loses') + F.col('white_loses'))\n",
    "total_wins.orderBy(F.desc('Total Loses')).withColumnRenamed('white', 'Player').select('Player', 'Total Loses').show(3)"
   ]
  },
  {
   "cell_type": "markdown",
   "metadata": {},
   "source": [
    "# **Conclusão**"
   ]
  },
  {
   "cell_type": "markdown",
   "metadata": {},
   "source": [
    "A base após seu tratamento estava validada e, a partir dela, foi possível realizar análises de modo a responder satisfatoriamente as propostas colocadas nos objetivos."
   ]
  }
 ],
 "metadata": {
  "kernelspec": {
   "display_name": "study_spark",
   "language": "python",
   "name": "python3"
  },
  "language_info": {
   "codemirror_mode": {
    "name": "ipython",
    "version": 3
   },
   "file_extension": ".py",
   "mimetype": "text/x-python",
   "name": "python",
   "nbconvert_exporter": "python",
   "pygments_lexer": "ipython3",
   "version": "3.13.0rc2"
  }
 },
 "nbformat": 4,
 "nbformat_minor": 2
}
